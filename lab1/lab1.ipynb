{
 "cells": [
  {
   "cell_type": "markdown",
   "metadata": {},
   "source": [
    "## Практическая работа № 1 \"Парольная защита\"\n",
    "\n",
    "### Автор: Гордеев Александр Сергеевич КЭ-401"
   ]
  },
  {
   "cell_type": "markdown",
   "metadata": {},
   "source": [
    "Вариант №2\n",
    "\n",
    "$P = 10^{-5}$\\\n",
    "$V = 3$ пароля в минуту\\\n",
    "$T = 10$ дней"
   ]
  },
  {
   "cell_type": "code",
   "execution_count": 43,
   "metadata": {},
   "outputs": [],
   "source": [
    "P = 1e-5         # вероятность подбора пароля\n",
    "V = 3            # пароли в минуту\n",
    "T = 10 * 24 * 60 # кол-во дней в минутах"
   ]
  },
  {
   "cell_type": "markdown",
   "metadata": {},
   "source": [
    "Импортируем все необходимые функции из модулей для работы"
   ]
  },
  {
   "cell_type": "code",
   "execution_count": 44,
   "metadata": {},
   "outputs": [],
   "source": [
    "from math import ceil\n",
    "from random import choice"
   ]
  },
  {
   "cell_type": "markdown",
   "metadata": {},
   "source": [
    "Зададим битовые маски для определения алфавита\n"
   ]
  },
  {
   "cell_type": "code",
   "execution_count": 45,
   "metadata": {},
   "outputs": [],
   "source": [
    "DIGITS     = 0b0001  # цифры\n",
    "LOWER_CASE = 0b0010  # строчные буквы\n",
    "UPPER_CASE = 0b0100  # заглавные буквы\n",
    "SYMBOLS    = 0b1000  # спец. символы\n",
    "ALL        = 0b1111  # все символы"
   ]
  },
  {
   "cell_type": "markdown",
   "metadata": {},
   "source": [
    "Создадим класс для генерации паролей, который принимает на вход конструктора входные данные P, V, T и битовую маску, которая задает алфавит\n"
   ]
  },
  {
   "cell_type": "code",
   "execution_count": 46,
   "metadata": {},
   "outputs": [],
   "source": [
    "class PasswordGenerator:\n",
    "    def __init__(self, probability: float, velocity: int, time: int, alph_mask: int):\n",
    "        self._probability = probability\n",
    "        self._velocity = velocity\n",
    "        self._time = time\n",
    "        self._S_min = ceil(velocity * time / probability)\n",
    "        self._alphabet = self._get_alphabet(alph_mask)\n",
    "        if len(self._alphabet) <= 0:\n",
    "            raise Exception(\"Alphabet mask is not correct\")\n",
    "        self._S, self._length = self._calc_min_length()\n",
    "\n",
    "    def generate(self) -> str:\n",
    "        result = \"\"\n",
    "        for _ in range(self._length):\n",
    "            result += choice(self._alphabet)\n",
    "        return result\n",
    "\n",
    "    def get_alphabet(self) -> str:\n",
    "        return self._alphabet\n",
    "\n",
    "    def get_s_min(self) -> int:\n",
    "        return self._S_min\n",
    "\n",
    "    def get_s(self) -> int:\n",
    "        return self._S\n",
    "\n",
    "    def get_length(self) -> int:\n",
    "        return self._length\n",
    "\n",
    "    def _get_alphabet(self, alph_mask: int) -> str:\n",
    "        result = \"\"\n",
    "        result += self._gen_alphabet(\"0\", \"9\") if alph_mask & (1 << 0) else \"\"\n",
    "        result += self._gen_alphabet(\"a\", \"z\") if alph_mask & (1 << 1) else \"\"\n",
    "        result += self._gen_alphabet(\"A\", \"Z\") if alph_mask & (1 << 2) else \"\"\n",
    "        result += (\n",
    "            self._gen_alphabet(\"!\", \"/\") + self._gen_alphabet(\":\", \"@\")\n",
    "            if alph_mask & (1 << 3)\n",
    "            else \"\"\n",
    "        )\n",
    "        return result\n",
    "\n",
    "    def _gen_alphabet(self, start_char: str, end_char: str) -> str:\n",
    "        return \"\".join(chr(c) for c in range(ord(start_char), ord(end_char) + 1))\n",
    "\n",
    "    def _calc_min_length(self) -> tuple:\n",
    "        s = 0\n",
    "        length = 1\n",
    "        while s < self._S_min:\n",
    "            length += 1\n",
    "            s = len(self._alphabet) ** length\n",
    "\n",
    "        return (s, length)"
   ]
  },
  {
   "cell_type": "markdown",
   "metadata": {},
   "source": [
    "Создадим экземпляр класса PasswordGenerator и проверим, выполняется ли условие:\n",
    "\n",
    "$S^* \\leq S = A^L$"
   ]
  },
  {
   "cell_type": "code",
   "execution_count": 47,
   "metadata": {},
   "outputs": [
    {
     "name": "stdout",
     "output_type": "stream",
     "text": [
      "Alphabet: 0123456789abcdefghijklmnopqrstuvwxyzABCDEFGHIJKLMNOPQRSTUVWXYZ!\"#$%&'()*+,-./:;<=>?@\n",
      "Length: 84\n",
      "\n",
      "S* <= S = A**L\n",
      "4320000000 <= 351298031616 = 84**6\n",
      "True\n"
     ]
    }
   ],
   "source": [
    "generator = PasswordGenerator(P, V, T, ALL)\n",
    "S_min = generator.get_s_min()\n",
    "S = generator.get_s()\n",
    "A = generator.get_alphabet()\n",
    "L = generator.get_length()\n",
    "\n",
    "print(f\"Alphabet: {A}\")\n",
    "print(f\"Length: {len(A)}\", end=\"\\n\\n\")\n",
    "\n",
    "print(\"S* <= S = A**L\")\n",
    "print(f\"{S_min} <= {S} = {len(A)}**{L}\")\n",
    "print(f\"{S_min <= S == len(A)**L}\")"
   ]
  },
  {
   "cell_type": "markdown",
   "metadata": {},
   "source": [
    "Сгенерируем несколько паролей и оценим результат"
   ]
  },
  {
   "cell_type": "code",
   "execution_count": 48,
   "metadata": {},
   "outputs": [
    {
     "name": "stdout",
     "output_type": "stream",
     "text": [
      "Password examples:\n",
      "wOp=0R\n",
      "XwG@7;\n",
      "FXLcuh\n",
      "r<iiTZ\n",
      "vkl=Y,\n",
      "kQw;:5\n",
      "-TGg0j\n",
      "&TMFbe\n",
      "bG!QiH\n",
      "c!,N>8\n"
     ]
    }
   ],
   "source": [
    "print(\"Password examples:\")\n",
    "for _ in range(10):\n",
    "    print(generator.generate())"
   ]
  }
 ],
 "metadata": {
  "kernelspec": {
   "display_name": "Python 3",
   "language": "python",
   "name": "python3"
  },
  "language_info": {
   "codemirror_mode": {
    "name": "ipython",
    "version": 3
   },
   "file_extension": ".py",
   "mimetype": "text/x-python",
   "name": "python",
   "nbconvert_exporter": "python",
   "pygments_lexer": "ipython3",
   "version": "3.11.7"
  }
 },
 "nbformat": 4,
 "nbformat_minor": 2
}
